{
 "cells": [
  {
   "cell_type": "code",
   "execution_count": 1,
   "id": "803b3c24",
   "metadata": {},
   "outputs": [
    {
     "name": "stdout",
     "output_type": "stream",
     "text": [
      "\"R 4\"\n",
      "\"U 4\"\n",
      "\"L 3\"\n",
      "\"D 1\"\n",
      "\"R 4\"\n",
      "\"D 1\"\n",
      "\"L 5\"\n",
      "\"R 2\"\n"
     ]
    }
   ],
   "source": [
    "show raw:read0`test.txt"
   ]
  },
  {
   "cell_type": "code",
   "execution_count": 53,
   "id": "1810dd17",
   "metadata": {},
   "outputs": [
    {
     "name": "stdout",
     "output_type": "stream",
     "text": [
      "0 1\n"
     ]
    }
   ],
   "source": [
    "dirs:\"RULD\"!(0 1;1 0;0 -1;-1 0)\n",
    "show dirs\"R\""
   ]
  },
  {
   "cell_type": "code",
   "execution_count": 55,
   "id": "c6bc8add",
   "metadata": {},
   "outputs": [
    {
     "data": {
      "text/plain": [
       "0 1\n",
       "0 1\n",
       "0 1\n",
       "0 1\n"
      ]
     },
     "execution_count": 55,
     "metadata": {},
     "output_type": "execute_result"
    }
   ],
   "source": [
    "/ take direction as many times as number after first 2 chars says\n",
    "fi:{last[\"J\"$2_x]#enlist dirs x 0}\n",
    "fi[\"R 4\"]"
   ]
  },
  {
   "cell_type": "code",
   "execution_count": 56,
   "id": "925e7479",
   "metadata": {},
   "outputs": [
    {
     "name": "stdout",
     "output_type": "stream",
     "text": [
      "0  1 \n",
      "0  1 \n",
      "0  1 \n",
      "0  1 \n",
      "1  0 \n",
      "1  0 \n",
      "1  0 \n",
      "1  0 \n",
      "0  -1\n",
      "0  -1\n",
      "0  -1\n",
      "-1 0 \n",
      "0  1 \n",
      "0  1 \n",
      "0  1 \n",
      "0  1 \n",
      "-1 0 \n",
      "0  -1\n",
      "0  -1\n",
      "0  -1\n",
      "0  -1\n",
      "0  -1\n",
      "..\n"
     ]
    }
   ],
   "source": [
    "show i:raze fi each raw"
   ]
  },
  {
   "cell_type": "code",
   "execution_count": 57,
   "id": "84df1d35",
   "metadata": {},
   "outputs": [
    {
     "name": "stdout",
     "output_type": "stream",
     "text": [
      "0 1\n",
      "0 2\n",
      "0 3\n",
      "0 4\n",
      "1 4\n",
      "2 4\n",
      "3 4\n",
      "4 4\n",
      "4 3\n",
      "4 2\n",
      "4 1\n",
      "3 1\n",
      "3 2\n",
      "3 3\n",
      "3 4\n",
      "3 5\n",
      "2 5\n",
      "2 4\n",
      "2 3\n",
      "2 2\n",
      "2 1\n",
      "2 0\n",
      "..\n"
     ]
    }
   ],
   "source": [
    "/ head movements - just running sum\n",
    "show heads:sums i"
   ]
  },
  {
   "cell_type": "code",
   "execution_count": 36,
   "id": "25a13780",
   "metadata": {},
   "outputs": [
    {
     "name": "stdout",
     "output_type": "stream",
     "text": [
      "1 0i\n",
      "1 1i\n",
      "-1 0i\n",
      "-1 -1i\n"
     ]
    }
   ],
   "source": [
    "/ tail movements\n",
    "/ when difference on any axis is more than 1\n",
    "/ move into direction of difference - signum to help\n",
    "/ otherwise stay\n",
    "\n",
    "show signum 2 0-0 0\n",
    "show signum 2 1-0 0\n",
    "show signum -2 0-0 0\n",
    "show signum -2 -1-0 0\n",
    "\n",
    "ft:{[t;h] $[any 1<abs d:h-t;t+signum d;t]}"
   ]
  },
  {
   "cell_type": "code",
   "execution_count": 61,
   "id": "6dfa53d0",
   "metadata": {},
   "outputs": [
    {
     "name": "stdout",
     "output_type": "stream",
     "text": [
      "2  0 | 1  0 \n",
      "0  2 | 0  1 \n",
      "1  2 | 1  1 \n",
      "2  1 | 1  1 \n",
      "0  1 | 0  0 \n",
      "0  -1| 0  0 \n",
      "1  0 | 0  0 \n",
      "-1 0 | 0  0 \n",
      "-2 0 | -1 0 \n",
      "0  -2| 0  -1\n",
      "-1 -2| -1 -1\n",
      "-2 -1| -1 -1\n"
     ]
    },
    {
     "data": {
      "text/plain": [
       "1b\n"
      ]
     },
     "execution_count": 61,
     "metadata": {},
     "output_type": "execute_result"
    }
   ],
   "source": [
    "/ say tail is in 0 0\n",
    "show tests:(!) . flip (\n",
    "    (2 0;1 0); / UU\n",
    "    (0 2;0 1); / RR\n",
    "    (1 2;1 1); / RUU\n",
    "    (2 1;1 1);  / RUR\n",
    "    (0 1;0 0);  / R\n",
    " neg(0 1;0 0);  / L\n",
    "    (1 0;0 0);  / U\n",
    " neg(1 0;0 0);  / D\n",
    " neg(2 0;1 0); / DD\n",
    " neg(0 2;0 1); / LL\n",
    " neg(1 2;1 1); / LDD\n",
    " neg(2 1;1 1)  / LDL\n",
    " )\n",
    "\n",
    "value[tests]~ft[0 0;] each key tests"
   ]
  },
  {
   "cell_type": "code",
   "execution_count": 64,
   "id": "482d16b6",
   "metadata": {},
   "outputs": [
    {
     "name": "stdout",
     "output_type": "stream",
     "text": [
      "(0 1;0 2;0 3;0 4;1 4;2 4;3 4;4 4;4 3;4 2;4 1;3 1;3 2;3 3;3 4;3 5;2 5;2 4;2 3;..\n",
      "(0 0;0 1;0 2;0 3;0 3;1 4;2 4;3 4;3 4;4 3;4 2;4 2;4 2;4 2;3 3;3 4;3 4;3 4;3 4;..\n"
     ]
    },
    {
     "data": {
      "text/plain": [
       "13\n"
      ]
     },
     "execution_count": 64,
     "metadata": {},
     "output_type": "execute_result"
    }
   ],
   "source": [
    "/ part 1 - use 'scan' as accumulator outputting intermediate states\n",
    "count distinct 0N!ft\\[0 0;0N!heads]"
   ]
  },
  {
   "cell_type": "code",
   "execution_count": 50,
   "id": "caf3127b",
   "metadata": {},
   "outputs": [
    {
     "data": {
      "text/plain": [
       "36\n"
      ]
     },
     "execution_count": 50,
     "metadata": {},
     "output_type": "execute_result"
    }
   ],
   "source": [
    "/ part 2 - repeat the same 9 more times recursively, use 'over' as 'do'\n",
    "heads2:sums raze fi each read0`test2.txt\n",
    "count distinct 9 {ft\\[0 0;x]}/heads2"
   ]
  },
  {
   "cell_type": "code",
   "execution_count": null,
   "id": "8a5a9115",
   "metadata": {},
   "outputs": [],
   "source": []
  }
 ],
 "metadata": {
  "kernelspec": {
   "display_name": "Q (kdb+)",
   "language": "q",
   "name": "qpk"
  },
  "language_info": {
   "file_extension": ".q",
   "mimetype": "text/x-q",
   "name": "q",
   "version": "4.0"
  }
 },
 "nbformat": 4,
 "nbformat_minor": 5
}
