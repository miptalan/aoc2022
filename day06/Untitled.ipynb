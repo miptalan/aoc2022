{
 "cells": [
  {
   "cell_type": "code",
   "execution_count": 21,
   "id": "9ba8e4ec",
   "metadata": {},
   "outputs": [],
   "source": [
    "i:\"mjqjpqmgbljsphdztnvjfqwrcgsmlb\""
   ]
  },
  {
   "cell_type": "code",
   "execution_count": 23,
   "id": "226d333e",
   "metadata": {},
   "outputs": [
    {
     "data": {
      "text/plain": [
       "\"mjqj\"\n",
       "\"jqjp\"\n",
       "\"qjpq\"\n",
       "\"jpqm\"\n",
       "\"pqmg\"\n",
       "\"qmgb\"\n",
       "\"mgbl\"\n",
       "\"gblj\"\n",
       "\"bljs\"\n",
       "\"ljsp\"\n",
       "\"jsph\"\n",
       "\"sphd\"\n",
       "\"phdz\"\n",
       "\"hdzt\"\n",
       "\"dztn\"\n",
       "\"ztnv\"\n",
       "\"tnvj\"\n",
       "\"nvjf\"\n",
       "\"vjfq\"\n",
       "\"jfqw\"\n",
       "\"fqwr\"\n",
       "\"qwrc\"\n",
       "..\n"
      ]
     },
     "execution_count": 23,
     "metadata": {},
     "output_type": "execute_result"
    }
   ],
   "source": [
    "/ sliding windows with sublist\n",
    "{(z;y) sublist x}[i;4] each til count i"
   ]
  },
  {
   "cell_type": "code",
   "execution_count": 24,
   "id": "0a01441a",
   "metadata": {},
   "outputs": [
    {
     "data": {
      "text/plain": [
       "000111111111111111111111111000b\n"
      ]
     },
     "execution_count": 24,
     "metadata": {},
     "output_type": "execute_result"
    }
   ],
   "source": [
    "/ distinct count of window \n",
    "{y=count distinct (z;y) sublist x}[i;4] each til count i"
   ]
  },
  {
   "cell_type": "code",
   "execution_count": 27,
   "id": "700ebab8",
   "metadata": {},
   "outputs": [
    {
     "data": {
      "text/plain": [
       "7\n"
      ]
     },
     "execution_count": 27,
     "metadata": {},
     "output_type": "execute_result"
    }
   ],
   "source": [
    "/ part 1\n",
    "/ size of window + first occurrence is the target index\n",
    "f:{[i;w]w+first where {y=count distinct (z;y) sublist x}[i;w] each til count i}\n",
    "f[i;4]"
   ]
  },
  {
   "cell_type": "code",
   "execution_count": 28,
   "id": "f9d761e7",
   "metadata": {},
   "outputs": [
    {
     "data": {
      "text/plain": [
       "19\n"
      ]
     },
     "execution_count": 28,
     "metadata": {},
     "output_type": "execute_result"
    }
   ],
   "source": [
    "/ part 2\n",
    "f[i;14]"
   ]
  },
  {
   "cell_type": "code",
   "execution_count": 29,
   "id": "29d39145",
   "metadata": {},
   "outputs": [
    {
     "name": "stdout",
     "output_type": "stream",
     "text": [
      "1542\n"
     ]
    },
    {
     "data": {
      "text/plain": [
       "3153\n"
      ]
     },
     "execution_count": 29,
     "metadata": {},
     "output_type": "execute_result"
    }
   ],
   "source": [
    "i:first read0`input.txt\n",
    "show f[i;4]\n",
    "f[i;14]"
   ]
  },
  {
   "cell_type": "code",
   "execution_count": null,
   "id": "c418f643",
   "metadata": {},
   "outputs": [],
   "source": []
  }
 ],
 "metadata": {
  "kernelspec": {
   "display_name": "Q (kdb+)",
   "language": "q",
   "name": "qpk"
  },
  "language_info": {
   "file_extension": ".q",
   "mimetype": "text/x-q",
   "name": "q",
   "version": "4.0"
  }
 },
 "nbformat": 4,
 "nbformat_minor": 5
}
