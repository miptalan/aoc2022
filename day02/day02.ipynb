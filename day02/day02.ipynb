{
 "cells": [
  {
   "cell_type": "code",
   "execution_count": 20,
   "id": "6ffdf1e0",
   "metadata": {},
   "outputs": [
    {
     "name": "stdout",
     "output_type": "stream",
     "text": [
      "r p\n",
      "p r\n",
      "s s\n"
     ]
    }
   ],
   "source": [
    "/ A,X - rock, B,Y - scissors, C,Z - paper\n",
    "map:`A`B`C`X`Y`Z!`r`p`s`r`p`s\n",
    "/ split each right (every read line) by space and conver to list of symbol lists\n",
    "show input:map {`$\" \" vs/:read0 x} `:test.txt"
   ]
  },
  {
   "cell_type": "code",
   "execution_count": 30,
   "id": "d52f72f3",
   "metadata": {},
   "outputs": [
    {
     "name": "stdout",
     "output_type": "stream",
     "text": [
      "2 1 3\n"
     ]
    },
    {
     "data": {
      "text/plain": [
       "6 0 3\n"
      ]
     },
     "execution_count": 30,
     "metadata": {},
     "output_type": "execute_result"
    },
    {
     "data": {
      "text/plain": [
       "15\n"
      ]
     },
     "execution_count": 30,
     "metadata": {},
     "output_type": "execute_result"
    }
   ],
   "source": [
    "/ 1 for Rock, 2 for Paper, and 3 for Scissors\n",
    "/ 0 if you lost, 3 if the round was a draw, and 6 if you won\n",
    "choiceScore:`r`p`s!1 2 3\n",
    "winScore:(`r`r;`s`s;`p`p;`s`r;`p`s;`r`p;`r`s;`p`r;`s`p)!3 3 3 6 6 6 0 0 0\n",
    "\n",
    "/ second column of input mapped by choiceScore\n",
    "show choiceScore input[;1]\n",
    "\n",
    "/ results of round - map pairs by winScore\n",
    "winScore input\n",
    "\n",
    "/ simple sum\n",
    "sum winScore[input]+choiceScore input[;1]"
   ]
  },
  {
   "cell_type": "code",
   "execution_count": 31,
   "id": "afadc9a8",
   "metadata": {},
   "outputs": [
    {
     "data": {
      "text/plain": [
       "12772\n"
      ]
     },
     "execution_count": 31,
     "metadata": {},
     "output_type": "execute_result"
    }
   ],
   "source": [
    "/ part 1\n",
    "input:map {`$\" \" vs/:read0 x} `:input.txt\n",
    "sum winScore[input]+choiceScore input[;1]"
   ]
  },
  {
   "cell_type": "code",
   "execution_count": 37,
   "id": "471d302d",
   "metadata": {},
   "outputs": [
    {
     "name": "stdout",
     "output_type": "stream",
     "text": [
      "(`A`Y;`B`X;`C`Z)\n",
      "r r\n",
      "p r\n",
      "s r\n"
     ]
    },
    {
     "data": {
      "text/plain": [
       "12\n"
      ]
     },
     "execution_count": 37,
     "metadata": {},
     "output_type": "execute_result"
    }
   ],
   "source": [
    "/ part 2 - just initial map is different\n",
    "/ X means you need to lose, Y means you need to end the round in a draw, and Z means you need to win.\n",
    "map:(`A`X;`A`Y;`A`Z;`B`X;`B`Y;`B`Z;`C`X;`C`Y;`C`Z)!(`r`s;`r`r;`r`p;`p`r;`p`p;`p`s;`s`p;`s`s;`s`r)\n",
    "show input:map 0N!{`$\" \" vs/:read0 x} `:test.txt\n",
    "sum winScore[input]+choiceScore input[;1]"
   ]
  },
  {
   "cell_type": "code",
   "execution_count": 38,
   "id": "65725384",
   "metadata": {},
   "outputs": [
    {
     "data": {
      "text/plain": [
       "11618\n"
      ]
     },
     "execution_count": 38,
     "metadata": {},
     "output_type": "execute_result"
    }
   ],
   "source": [
    "/ part 2\n",
    "input:map {`$\" \" vs/:read0 x} `:input.txt\n",
    "sum winScore[input]+choiceScore input[;1]"
   ]
  },
  {
   "cell_type": "code",
   "execution_count": null,
   "id": "9557e48f",
   "metadata": {},
   "outputs": [],
   "source": []
  }
 ],
 "metadata": {
  "kernelspec": {
   "display_name": "Q (kdb+)",
   "language": "q",
   "name": "qpk"
  },
  "language_info": {
   "file_extension": ".q",
   "mimetype": "text/x-q",
   "name": "q",
   "version": "4.0"
  }
 },
 "nbformat": 4,
 "nbformat_minor": 5
}
