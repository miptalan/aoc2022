{
 "cells": [
  {
   "cell_type": "code",
   "execution_count": 129,
   "id": "d85105c1",
   "metadata": {},
   "outputs": [
    {
     "data": {
      "text/plain": [
       "\"    [D]    \"\n",
       "\"[N] [C]    \"\n",
       "\"[Z] [M] [P]\"\n",
       "\" 1   2   3 \"\n",
       "\"\"\n",
       "\"move 1 from 2 to 1\"\n",
       "\"move 3 from 1 to 3\"\n",
       "\"move 2 from 2 to 1\"\n",
       "\"move 1 from 1 to 2\"\n"
      ]
     },
     "execution_count": 129,
     "metadata": {},
     "output_type": "execute_result"
    }
   ],
   "source": [
    "raw:read0`:test.txt\n",
    "raw"
   ]
  },
  {
   "cell_type": "code",
   "execution_count": 130,
   "id": "48ddd2eb",
   "metadata": {},
   "outputs": [
    {
     "name": "stdout",
     "output_type": "stream",
     "text": [
      "\"    [D]    \"\n",
      "\"[N] [C]    \"\n",
      "\"[Z] [M] [P]\"\n",
      "3\n",
      "\"move 1 from 2 to 1\"\n",
      "\"move 3 from 1 to 3\"\n",
      "\"move 2 from 2 to 1\"\n",
      "\"move 1 from 1 to 2\"\n"
     ]
    }
   ],
   "source": [
    "/ split by empty line\n",
    "parts:(0,where \"\"~/:raw) cut raw\n",
    "\n",
    "rawField:-1_parts 0\n",
    "show rawField\n",
    "\n",
    "N:max \"J\"$\" \" vs first -1#parts 0\n",
    "show N\n",
    "\n",
    "instructions:1_parts 1\n",
    "show instructions"
   ]
  },
  {
   "cell_type": "code",
   "execution_count": 131,
   "id": "6179b277",
   "metadata": {},
   "outputs": [
    {
     "name": "stdout",
     "output_type": "stream",
     "text": [
      "\" NZ\"\n",
      "\"DCM\"\n",
      "\"  P\"\n"
     ]
    },
    {
     "data": {
      "text/plain": [
       "\"\"\n",
       "\"NZ\"\n",
       "\"DCM\"\n",
       ",\"P\"\n"
      ]
     },
     "execution_count": 131,
     "metadata": {},
     "output_type": "execute_result"
    }
   ],
   "source": [
    "/ prepare field - letters are on 1,5,9,...\n",
    "/ easier to work with rows - so flip\n",
    "/ indexes of moves are 1-based - add empty line\n",
    "/ trim to make top of each stack first\n",
    "show flip[rawField] 1+4*til N\n",
    "\n",
    "field:enlist[\"\"],trim each flip[rawField] 1+4*til N\n",
    "field"
   ]
  },
  {
   "cell_type": "code",
   "execution_count": 132,
   "id": "ffc593ab",
   "metadata": {},
   "outputs": [
    {
     "data": {
      "text/plain": [
       "1 2 1\n",
       "3 1 3\n",
       "2 2 1\n",
       "1 1 2\n"
      ]
     },
     "execution_count": 132,
     "metadata": {},
     "output_type": "execute_result"
    }
   ],
   "source": [
    "/ prepare moves as indexes/lengths - exploit text converts to null number\n",
    "moves:(\"J\"$\" \" vs'instructions)[;1 3 5]\n",
    "moves"
   ]
  },
  {
   "cell_type": "code",
   "execution_count": 133,
   "id": "86d4512b",
   "metadata": {},
   "outputs": [
    {
     "data": {
      "text/plain": [
       ",\"D\"\n"
      ]
     },
     "execution_count": 133,
     "metadata": {},
     "output_type": "execute_result"
    }
   ],
   "source": [
    "/ i - take 1st from 2nd, reverse, put to 3rd\n",
    "f:field\n",
    "i:first moves\n",
    "reverse(i 0)#f i 1"
   ]
  },
  {
   "cell_type": "code",
   "execution_count": 134,
   "id": "41e82a8e",
   "metadata": {},
   "outputs": [
    {
     "data": {
      "text/plain": [
       "\"DNZ\"\n"
      ]
     },
     "execution_count": 134,
     "metadata": {},
     "output_type": "execute_result"
    }
   ],
   "source": [
    "/ put on top of 3rd\n",
    "(reverse(i 0)#f i 1),f i 2"
   ]
  },
  {
   "cell_type": "code",
   "execution_count": 135,
   "id": "18fa749b",
   "metadata": {},
   "outputs": [
    {
     "data": {
      "text/plain": [
       "\"CM\"\n"
      ]
     },
     "execution_count": 135,
     "metadata": {},
     "output_type": "execute_result"
    }
   ],
   "source": [
    "/ remove from 2nd\n",
    "(i 0)_f i 1"
   ]
  },
  {
   "cell_type": "code",
   "execution_count": 136,
   "id": "74311601",
   "metadata": {},
   "outputs": [
    {
     "data": {
      "text/plain": [
       "\"\"\n",
       "\"DNZ\"\n",
       "\"CM\"\n",
       ",\"P\"\n"
      ]
     },
     "execution_count": 136,
     "metadata": {},
     "output_type": "execute_result"
    }
   ],
   "source": [
    "/ replace rows with apply-at in ternary form with assign(:) as fn\n",
    "@[f;i 1 2;:;((i 0)_f i 1;(reverse(i 0)#f i 1),f i 2)]"
   ]
  },
  {
   "cell_type": "code",
   "execution_count": 137,
   "id": "5ac32af3",
   "metadata": {},
   "outputs": [
    {
     "data": {
      "text/plain": [
       "\"\"\n",
       ",\"C\"\n",
       ",\"M\"\n",
       "\"ZNDP\"\n"
      ]
     },
     "execution_count": 137,
     "metadata": {},
     "output_type": "execute_result"
    }
   ],
   "source": [
    "/ use over as accumulator\n",
    "f1:{[f;i]@[f;i 1 2;:;((i 0)_f i 1;(reverse(i 0)#f i 1),f i 2)]}\n",
    "f1/[field;moves]"
   ]
  },
  {
   "cell_type": "code",
   "execution_count": 138,
   "id": "16689be9",
   "metadata": {},
   "outputs": [
    {
     "data": {
      "text/plain": [
       "\"CMZ\"\n"
      ]
     },
     "execution_count": 138,
     "metadata": {},
     "output_type": "execute_result"
    }
   ],
   "source": [
    "/ trim resulting first elements \"column\"\n",
    "trim f1/[field;moves][;0]"
   ]
  },
  {
   "cell_type": "code",
   "execution_count": 139,
   "id": "f13b003b",
   "metadata": {},
   "outputs": [
    {
     "data": {
      "text/plain": [
       "\"MCD\"\n"
      ]
     },
     "execution_count": 139,
     "metadata": {},
     "output_type": "execute_result"
    }
   ],
   "source": [
    "/ part 2 - same but without reversion\n",
    "f2:{[f;i]@[f;i 1 2;:;((i 0)_f i 1;((i 0)#f i 1),f i 2)]}\n",
    "trim f2/[field;moves][;0]"
   ]
  },
  {
   "cell_type": "code",
   "execution_count": 140,
   "id": "8aa6601a",
   "metadata": {},
   "outputs": [
    {
     "name": "stdout",
     "output_type": "stream",
     "text": [
      "\"JCMHLVGMG\"\n",
      "\"LVMRWSSPZ\"\n"
     ]
    }
   ],
   "source": [
    "raw:read0`input.txt\n",
    "parts:(0,where \"\"~/:raw) cut raw\n",
    "rawField:-1_parts 0\n",
    "N:max \"J\"$\" \" vs first -1#parts 0\n",
    "instructions:1_parts 1\n",
    "field:enlist[\"\"],trim each flip[rawField] 1+4*til N\n",
    "moves:(\"J\"$\" \" vs'instructions)[;1 3 5]\n",
    "\n",
    "show trim f1/[field;moves][;0]\n",
    "show trim f2/[field;moves][;0]"
   ]
  }
 ],
 "metadata": {
  "kernelspec": {
   "display_name": "Q (kdb+)",
   "language": "q",
   "name": "qpk"
  },
  "language_info": {
   "file_extension": ".q",
   "mimetype": "text/x-q",
   "name": "q",
   "version": "4.0"
  }
 },
 "nbformat": 4,
 "nbformat_minor": 5
}
