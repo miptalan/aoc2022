{
 "cells": [
  {
   "cell_type": "markdown",
   "id": "c540aa1c",
   "metadata": {},
   "source": [
    "# part 1"
   ]
  },
  {
   "cell_type": "code",
   "execution_count": 9,
   "id": "9c1eb760",
   "metadata": {},
   "outputs": [
    {
     "name": "stdout",
     "output_type": "stream",
     "text": [
      "\"vJrwpWtwJgWr\"     \"hcsFMMfFFhFp\"    \n",
      "\"jqHRNqRjqzjGDLGL\" \"rsFMfFZSrLrFZsSL\"\n",
      "\"PmmdzqPrV\"        \"vPwwTWBwg\"       \n",
      "\"wMqvLMZHhHMvwLH\"  \"jbvcjnnSBnvTQFn\" \n",
      "\"ttgJtRGJ\"         \"QctTZtZT\"        \n",
      "\"CrZsJsPPZsGz\"     \"wwsLwLmpwMDw\"    \n"
     ]
    }
   ],
   "source": [
    "/ for each line cut at the middle\n",
    "show input:{(0,count[x] div 2)cut x} each read0`:test.txt"
   ]
  },
  {
   "cell_type": "code",
   "execution_count": 48,
   "id": "919050fc",
   "metadata": {},
   "outputs": [
    {
     "name": "stdout",
     "output_type": "stream",
     "text": [
      "(,\"p\";,\"L\";,\"P\";,\"v\";,\"t\";,\"s\")\n"
     ]
    }
   ],
   "source": [
    "/ for each rucksack intersect compartments - dot-apply takes each list of two and passes as two agruments to inter\n",
    "r:raze 0N!{distinct x inter y} .' input"
   ]
  },
  {
   "cell_type": "code",
   "execution_count": 49,
   "id": "dd6328e2",
   "metadata": {},
   "outputs": [
    {
     "name": "stdout",
     "output_type": "stream",
     "text": [
      "\"abcdefghijklmnopqrstuvwxyzABCDEFGHIJKLMNOPQRSTUVWXYZ\"!1 2 3 4 5 6 7 8 9 10 1..\n"
     ]
    },
    {
     "data": {
      "text/plain": [
       "157\n"
      ]
     },
     "execution_count": 49,
     "metadata": {},
     "output_type": "execute_result"
    }
   ],
   "source": [
    "/ map letters to numbers via dict - note .Q.a/A usage\n",
    "sum (m:0N!(.Q.a,.Q.A)!1+til 52) r"
   ]
  },
  {
   "cell_type": "code",
   "execution_count": 50,
   "id": "09073bc0",
   "metadata": {},
   "outputs": [
    {
     "data": {
      "text/plain": [
       "7826\n"
      ]
     },
     "execution_count": 50,
     "metadata": {},
     "output_type": "execute_result"
    }
   ],
   "source": [
    "/ part 1\n",
    "input:{(0,count[x] div 2)cut x} each read0`:input.txt\n",
    "sum m raze {distinct x inter y} .' input"
   ]
  },
  {
   "cell_type": "markdown",
   "id": "55b49da2",
   "metadata": {},
   "source": [
    "# part 2"
   ]
  },
  {
   "cell_type": "code",
   "execution_count": 95,
   "id": "1e6d6b9a",
   "metadata": {},
   "outputs": [
    {
     "name": "stdout",
     "output_type": "stream",
     "text": [
      "\"vJrwpWtwJgWrhcsFMMfFFhFp\"\n",
      "\"jqHRNqRjqzjGDLGLrsFMfFZSrLrFZsSL\"\n",
      "\"PmmdzqPrVvPwwTWBwg\"\n",
      "\"wMqvLMZHhHMvwLHjbvcjnnSBnvTQFn\"\n",
      "\"ttgJtRGJQctTZtZT\"\n",
      "\"CrZsJsPPZsGzwwsLwLmpwMDw\"\n"
     ]
    }
   ],
   "source": [
    "\\c 100 100\n",
    "show raw2:read0`:test2.txt"
   ]
  },
  {
   "cell_type": "code",
   "execution_count": 96,
   "id": "f1976828",
   "metadata": {},
   "outputs": [
    {
     "name": "stdout",
     "output_type": "stream",
     "text": [
      "\"vJrwpWtwJgWrhcsFMMfFFhFp\"       \"jqHRNqRjqzjGDLGLrsFMfFZSrLrFZsSL\" \"PmmdzqPrVvPwwTWBwg\"      \n",
      "\"wMqvLMZHhHMvwLHjbvcjnnSBnvTQFn\" \"ttgJtRGJQctTZtZT\"                 \"CrZsJsPPZsGzwwsLwLmpwMDw\"\n"
     ]
    }
   ],
   "source": [
    "/ cut into groups of 3\n",
    "show input2:3 cut raw2"
   ]
  },
  {
   "cell_type": "code",
   "execution_count": 105,
   "id": "b815bb67",
   "metadata": {},
   "outputs": [
    {
     "name": "stdout",
     "output_type": "stream",
     "text": [
      "(\"vJrwpWtwJgWrhcsFMMfFFhFp\";\"jqHRNqRjqzjGDLGLrsFMfFZSrLrFZsSL\";\"PmmdzqPrVvPwwTWBwg\")\n"
     ]
    },
    {
     "data": {
      "text/plain": [
       "\"rr\"\n"
      ]
     },
     "execution_count": 105,
     "metadata": {},
     "output_type": "execute_result"
    }
   ],
   "source": [
    "/ use map-reduce (over) to intersect all three lists\n",
    "inter/[0N!first input2]"
   ]
  },
  {
   "cell_type": "code",
   "execution_count": 98,
   "id": "ecb17db7",
   "metadata": {},
   "outputs": [
    {
     "data": {
      "text/plain": [
       "70\n"
      ]
     },
     "execution_count": 98,
     "metadata": {},
     "output_type": "execute_result"
    }
   ],
   "source": [
    "sum m raze {distinct inter/[x]} each input2"
   ]
  },
  {
   "cell_type": "code",
   "execution_count": 104,
   "id": "231f40f3",
   "metadata": {},
   "outputs": [
    {
     "data": {
      "text/plain": [
       "2577\n"
      ]
     },
     "execution_count": 104,
     "metadata": {},
     "output_type": "execute_result"
    }
   ],
   "source": [
    "/ part 2\n",
    "sum m raze {distinct inter/[x]} each 3 cut read0`:input.txt"
   ]
  }
 ],
 "metadata": {
  "kernelspec": {
   "display_name": "Q (kdb+)",
   "language": "q",
   "name": "qpk"
  },
  "language_info": {
   "file_extension": ".q",
   "mimetype": "text/x-q",
   "name": "q",
   "version": "4.0"
  }
 },
 "nbformat": 4,
 "nbformat_minor": 5
}
