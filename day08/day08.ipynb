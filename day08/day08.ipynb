{
 "cells": [
  {
   "cell_type": "code",
   "execution_count": 177,
   "id": "c3aa856e",
   "metadata": {},
   "outputs": [
    {
     "name": "stdout",
     "output_type": "stream",
     "text": [
      "3 0 3 7 3\n",
      "2 5 5 1 2\n",
      "6 5 3 3 2\n",
      "3 3 5 4 9\n",
      "3 5 3 9 0\n"
     ]
    }
   ],
   "source": [
    "/ use ascii codes trick - digits start from code 48\n",
    "show i:-48+\"j\"$read0`test.txt"
   ]
  },
  {
   "cell_type": "code",
   "execution_count": 178,
   "id": "846ed9dd",
   "metadata": {},
   "outputs": [],
   "source": [
    "/ part 1 - simply check that all elements till edge are less\n",
    "f1:{[g;y;x]\n",
    "    maxx:til count first g;\n",
    "    maxy:til count g;\n",
    "    h:g[x;y];\n",
    "    left:all h>g[x;maxy where maxy<y];\n",
    "    right:all h>g[x;maxy where maxy>y];\n",
    "    top:all h>g[maxx where maxx<x;y];\n",
    "    bottom:all h>g[maxx where maxx>x;y];\n",
    "    left|right|top|bottom\n",
    " }"
   ]
  },
  {
   "cell_type": "code",
   "execution_count": 179,
   "id": "1d4b81e9",
   "metadata": {},
   "outputs": [
    {
     "data": {
      "text/plain": [
       "21i\n"
      ]
     },
     "execution_count": 179,
     "metadata": {},
     "output_type": "execute_result"
    }
   ],
   "source": [
    "sum f1[i].'(til count first i) cross til count i"
   ]
  },
  {
   "cell_type": "code",
   "execution_count": 180,
   "id": "8aeaee3a",
   "metadata": {},
   "outputs": [
    {
     "name": "stdout",
     "output_type": "stream",
     "text": [
      ",2\n",
      "3\n",
      "`long$()\n",
      "3\n"
     ]
    }
   ],
   "source": [
    "/ visible points === distance to first equal or higher OR to edge\n",
    "/ case - limited view\n",
    "show 1+first 0N!where 2<=0 0 2\n",
    "/ case - unlimited view\n",
    "show 3^1+first 0N!where 2<=0 0 0\n",
    "\n",
    "/ turn into func\n",
    "fd:{[h;ts]count[ts]^1+first where h<=ts}"
   ]
  },
  {
   "cell_type": "code",
   "execution_count": 181,
   "id": "fd160c19",
   "metadata": {},
   "outputs": [
    {
     "data": {
      "text/plain": [
       "1b\n"
      ]
     },
     "execution_count": 181,
     "metadata": {},
     "output_type": "execute_result"
    }
   ],
   "source": [
    "tests:(0 0 0;0 0 2;0 1 3;0 2 0;2 0 0)!3 3 3 2 1\n",
    "value[tests]~fd[2] each key tests"
   ]
  },
  {
   "cell_type": "code",
   "execution_count": 182,
   "id": "19650b5d",
   "metadata": {},
   "outputs": [],
   "source": [
    "f2:{[g;y;x]\n",
    "    maxx:til count first g;\n",
    "    maxy:til count g;    \n",
    "    v:fd[g[x;y]];\n",
    "    left:v reverse g[x;maxy where maxy<y];\n",
    "    right:v g[x;maxy where maxy>y];\n",
    "    top:v reverse g[maxx where maxx<x;y];\n",
    "    bottom:v g[maxx where maxx>x;y];\n",
    "    /(left;right;top;bottom) \n",
    "    left*right*top*bottom\n",
    " }"
   ]
  },
  {
   "cell_type": "code",
   "execution_count": 183,
   "id": "02239648",
   "metadata": {},
   "outputs": [
    {
     "data": {
      "text/plain": [
       "8\n"
      ]
     },
     "execution_count": 183,
     "metadata": {},
     "output_type": "execute_result"
    }
   ],
   "source": [
    "max f2[i].'c:(til count first i) cross til count i"
   ]
  },
  {
   "cell_type": "code",
   "execution_count": null,
   "id": "fc60d402",
   "metadata": {},
   "outputs": [],
   "source": []
  }
 ],
 "metadata": {
  "kernelspec": {
   "display_name": "Q (kdb+)",
   "language": "q",
   "name": "qpk"
  },
  "language_info": {
   "file_extension": ".q",
   "mimetype": "text/x-q",
   "name": "q",
   "version": "4.0"
  }
 },
 "nbformat": 4,
 "nbformat_minor": 5
}
