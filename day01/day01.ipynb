{
 "cells": [
  {
   "cell_type": "code",
   "execution_count": 10,
   "id": "b55e2df6",
   "metadata": {},
   "outputs": [
    {
     "data": {
      "text/plain": [
       "\"1000\"\n",
       "\"2000\"\n",
       "\"3000\"\n",
       "\"\"\n",
       "\"4000\"\n",
       "\"\"\n",
       "\"5000\"\n",
       "\"6000\"\n",
       "\"\"\n",
       "\"7000\"\n",
       "\"8000\"\n",
       "\"9000\"\n",
       "\"\"\n",
       "\"10000\"\n"
      ]
     },
     "execution_count": 10,
     "metadata": {},
     "output_type": "execute_result"
    }
   ],
   "source": [
    "/ read as text file\n",
    "read0 `:test.txt"
   ]
  },
  {
   "cell_type": "code",
   "execution_count": 25,
   "id": "af2e8a32",
   "metadata": {},
   "outputs": [
    {
     "data": {
      "text/plain": [
       "1000 2000 3000 0N 4000 0N 5000 6000 0N 7000 8000 9000 0N 10000\n"
      ]
     },
     "execution_count": 25,
     "metadata": {},
     "output_type": "execute_result"
    }
   ],
   "source": [
    "/ convert to longs\n",
    "test:\"J\"$read0 `:test.txt\n",
    "test"
   ]
  },
  {
   "cell_type": "code",
   "execution_count": 27,
   "id": "fb41668a",
   "metadata": {},
   "outputs": [
    {
     "data": {
      "text/plain": [
       "1000 2000 3000\n",
       "0N 4000\n",
       "0N 5000 6000\n",
       "0N 7000 8000 9000\n",
       "0N 10000\n"
      ]
     },
     "execution_count": 27,
     "metadata": {},
     "output_type": "execute_result"
    }
   ],
   "source": [
    "/ cut into pieces at indexes on nulls\n",
    "f:{(0,where x=0Nj) cut x}\n",
    "f test"
   ]
  },
  {
   "cell_type": "code",
   "execution_count": 28,
   "id": "a9117863",
   "metadata": {},
   "outputs": [
    {
     "data": {
      "text/plain": [
       "24000\n"
      ]
     },
     "execution_count": 28,
     "metadata": {},
     "output_type": "execute_result"
    }
   ],
   "source": [
    "/ sum each subarray (exploit 0Nj+1==1), find max\n",
    "max sum each f test"
   ]
  },
  {
   "cell_type": "code",
   "execution_count": 32,
   "id": "852a883b",
   "metadata": {},
   "outputs": [
    {
     "data": {
      "text/plain": [
       "72478\n"
      ]
     },
     "execution_count": 32,
     "metadata": {},
     "output_type": "execute_result"
    }
   ],
   "source": [
    "/ part 1\n",
    "max allElves:sum each f \"J\"$read0 `:input.txt"
   ]
  },
  {
   "cell_type": "code",
   "execution_count": 34,
   "id": "8e10c872",
   "metadata": {},
   "outputs": [
    {
     "data": {
      "text/plain": [
       "210367\n"
      ]
     },
     "execution_count": 34,
     "metadata": {},
     "output_type": "execute_result"
    }
   ],
   "source": [
    "/ part 2 - just sum of first 3 in sorted array\n",
    "sum 3#desc allElves"
   ]
  },
  {
   "cell_type": "code",
   "execution_count": null,
   "id": "c583ce6e",
   "metadata": {},
   "outputs": [],
   "source": []
  }
 ],
 "metadata": {
  "kernelspec": {
   "display_name": "Q (kdb+)",
   "language": "q",
   "name": "qpk"
  },
  "language_info": {
   "file_extension": ".q",
   "mimetype": "text/x-q",
   "name": "q",
   "version": "4.0"
  }
 },
 "nbformat": 4,
 "nbformat_minor": 5
}
