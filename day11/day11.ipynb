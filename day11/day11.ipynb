{
 "cells": [
  {
   "cell_type": "code",
   "execution_count": 4,
   "id": "5a8196c9",
   "metadata": {},
   "outputs": [
    {
     "data": {
      "text/plain": [
       "\"Monkey 0:\"\n",
       "\"  Starting items: 79, 98\"\n",
       "\"  Operation: new = old * 19\"\n",
       "\"  Test: divisible by 23\"\n",
       "\"    If true: throw to monkey 2\"\n",
       "\"    If false: throw to monkey 3\"\n",
       "\"\"\n"
      ]
     },
     "execution_count": 4,
     "metadata": {},
     "output_type": "execute_result"
    }
   ],
   "source": [
    "first 7 cut raw:read0`test.txt"
   ]
  },
  {
   "cell_type": "code",
   "execution_count": 18,
   "id": "cda408ab",
   "metadata": {},
   "outputs": [
    {
     "data": {
      "text/plain": [
       "\"  Starting items: 76, 88, 96, 97, 58, 61, 67\"\n",
       "\"  Starting items: 93, 71, 79, 83, 69, 70, 94, 98\"\n",
       "\"  Starting items: 50, 74, 67, 92, 61, 76\"\n",
       "\"  Starting items: 76, 92\"\n",
       "\"  Starting items: 74, 94, 55, 87, 62\"\n",
       "\"  Starting items: 59, 62, 53, 62\"\n",
       "\"  Starting items: 62\"\n",
       "\"  Starting items: 85, 54, 53\"\n"
      ]
     },
     "execution_count": 18,
     "metadata": {},
     "output_type": "execute_result"
    }
   ],
   "source": [
    "system \"grep 'Starting items' input.txt\""
   ]
  },
  {
   "cell_type": "code",
   "execution_count": 14,
   "id": "6f4e2e97",
   "metadata": {},
   "outputs": [
    {
     "data": {
      "text/plain": [
       "79 98\n"
      ]
     },
     "execution_count": 14,
     "metadata": {},
     "output_type": "execute_result"
    }
   ],
   "source": [
    "/ parse items\n",
    "get 18_\"  Starting items: 79, 98\""
   ]
  },
  {
   "cell_type": "code",
   "execution_count": 19,
   "id": "08ede8d7",
   "metadata": {},
   "outputs": [
    {
     "data": {
      "text/plain": [
       "\"  Operation: new = old * 19\"\n",
       "\"  Operation: new = old + 8\"\n",
       "\"  Operation: new = old * 13\"\n",
       "\"  Operation: new = old + 6\"\n",
       "\"  Operation: new = old + 5\"\n",
       "\"  Operation: new = old * old\"\n",
       "\"  Operation: new = old + 2\"\n",
       "\"  Operation: new = old + 3\"\n"
      ]
     },
     "execution_count": 19,
     "metadata": {},
     "output_type": "execute_result"
    }
   ],
   "source": [
    "system \"grep 'Operation' input.txt\""
   ]
  },
  {
   "cell_type": "code",
   "execution_count": 125,
   "id": "5492037d",
   "metadata": {},
   "outputs": [
    {
     "data": {
      "text/plain": [
       "{[old]div[;3] old * old}\n"
      ]
     },
     "execution_count": 125,
     "metadata": {},
     "output_type": "execute_result"
    }
   ],
   "source": [
    "/ parse operations\n",
    "get \"{[old]div[;3]\",(18_\"  Operation: new = old * old\"),\"}\""
   ]
  },
  {
   "cell_type": "code",
   "execution_count": 115,
   "id": "6bbebcb7",
   "metadata": {},
   "outputs": [
    {
     "data": {
      "text/plain": [
       "\"  Test: divisible by 3\"\n",
       "\"  Test: divisible by 11\"\n",
       "\"  Test: divisible by 19\"\n",
       "\"  Test: divisible by 5\"\n",
       "\"  Test: divisible by 2\"\n",
       "\"  Test: divisible by 7\"\n",
       "\"  Test: divisible by 17\"\n",
       "\"  Test: divisible by 13\"\n"
      ]
     },
     "execution_count": 115,
     "metadata": {},
     "output_type": "execute_result"
    }
   ],
   "source": [
    "system \"grep 'Test: ' input.txt\""
   ]
  },
  {
   "cell_type": "code",
   "execution_count": 116,
   "id": "3ae2b4ff",
   "metadata": {},
   "outputs": [
    {
     "data": {
      "text/plain": [
       "\"5:    If true: throw to monkey 2\"\n",
       "\"12:    If true: throw to monkey 5\"\n",
       "\"19:    If true: throw to monkey 3\"\n",
       "\"26:    If true: throw to monkey 1\"\n",
       "\"33:    If true: throw to monkey 2\"\n",
       "\"40:    If true: throw to monkey 4\"\n",
       "\"47:    If true: throw to monkey 5\"\n",
       "\"54:    If true: throw to monkey 4\"\n"
      ]
     },
     "execution_count": 116,
     "metadata": {},
     "output_type": "execute_result"
    }
   ],
   "source": [
    "system \"grep -n 'If true: ' input.txt\""
   ]
  },
  {
   "cell_type": "code",
   "execution_count": 117,
   "id": "a7ef4837",
   "metadata": {},
   "outputs": [
    {
     "data": {
      "text/plain": [
       "\"6:    If false: throw to monkey 3\"\n",
       "\"13:    If false: throw to monkey 6\"\n",
       "\"20:    If false: throw to monkey 1\"\n",
       "\"27:    If false: throw to monkey 6\"\n",
       "\"34:    If false: throw to monkey 0\"\n",
       "\"41:    If false: throw to monkey 7\"\n",
       "\"48:    If false: throw to monkey 7\"\n",
       "\"55:    If false: throw to monkey 0\"\n"
      ]
     },
     "execution_count": 117,
     "metadata": {},
     "output_type": "execute_result"
    }
   ],
   "source": [
    "system \"grep -n 'If false: ' input.txt\"\n",
    "/ always throw, false always after true"
   ]
  },
  {
   "cell_type": "code",
   "execution_count": 118,
   "id": "ae66d3b7",
   "metadata": {},
   "outputs": [
    {
     "data": {
      "text/plain": [
       "{?[0=x mod 23;2;3]}\n"
      ]
     },
     "execution_count": 118,
     "metadata": {},
     "output_type": "execute_result"
    }
   ],
   "source": [
    "/ parse tests\n",
    "l:(\"  Test: divisible by 23\";\n",
    " \"    If true: throw to monkey 2\";\n",
    " \"    If false: throw to monkey 3\")\n",
    "get \"{?[0=x mod \",(21_l 0),\";\",(29_l 1),\";\",(30_l 2),\"]}\""
   ]
  },
  {
   "cell_type": "code",
   "execution_count": 150,
   "id": "6e228857",
   "metadata": {},
   "outputs": [
    {
     "name": "stdout",
     "output_type": "stream",
     "text": [
      "79 98       {[old]div[;3] old * 19}  {?[0=x mod 23;2;3]}\n",
      "54 65 75 74 {[old]div[;3] old + 6}   {?[0=x mod 19;2;0]}\n",
      "79 60 97    {[old]div[;3] old * old} {?[0=x mod 13;1;3]}\n",
      "74          {[old]div[;3] old + 3}   {?[0=x mod 17;0;1]}\n"
     ]
    }
   ],
   "source": [
    "fi:{\n",
    "        items:get 18_x 1;\n",
    "        op:get \"{[old]div[;3]\",(18_x 2),\"}\";\n",
    "        tests:get \"{?[0=x mod \",(21_x 3),\";\",(29_x 4),\";\",(30_x 5),\"]}\";\n",
    "    (items;op;tests)\n",
    " }\n",
    "show input:fi each 7 cut raw"
   ]
  },
  {
   "cell_type": "code",
   "execution_count": 157,
   "id": "6e7bfdc3",
   "metadata": {},
   "outputs": [
    {
     "name": "stdout",
     "output_type": "stream",
     "text": [
      "500 620\n",
      "3 3\n"
     ]
    },
    {
     "data": {
      "text/plain": [
       "79 98\n",
       "54 65 75 74\n",
       "79 60 97\n",
       "74 500 620\n"
      ]
     },
     "execution_count": 157,
     "metadata": {},
     "output_type": "execute_result"
    }
   ],
   "source": [
    "items:input[;0]\n",
    "ops:input[;1]\n",
    "tests:input[;2]\n",
    "\n",
    "/ apply ops, tests and move items with applyAt(@)\n",
    "show moveTo:tests[0] 0N!newItems:ops[0] items 0\n",
    "@[;;{x,y};]/[items;moveTo;newItems]"
   ]
  },
  {
   "cell_type": "code",
   "execution_count": 158,
   "id": "a02d3ad9",
   "metadata": {},
   "outputs": [
    {
     "data": {
      "text/plain": [
       "`long$()\n",
       "54 65 75 74\n",
       "79 60 97\n",
       "74 500 620\n"
      ]
     },
     "execution_count": 158,
     "metadata": {},
     "output_type": "execute_result"
    }
   ],
   "source": [
    "turn:{[i;o;t;n]\n",
    "    /show (n;i);\n",
    "    moveTo:t[n] newItems:o[n] i n;\n",
    "    i[n]:`long$(); / remove\n",
    "    @[;;{x,y};]/[i;moveTo;newItems]\n",
    " };\n",
    "\n",
    "turn[items;ops;tests;0]"
   ]
  },
  {
   "cell_type": "code",
   "execution_count": 159,
   "id": "f5cb4554",
   "metadata": {},
   "outputs": [
    {
     "data": {
      "text/plain": [
       "20 23 27 26\n",
       "2080 25 167 207 401 1046\n",
       "`long$()\n",
       "`long$()\n"
      ]
     },
     "execution_count": 159,
     "metadata": {},
     "output_type": "execute_result"
    }
   ],
   "source": [
    "/ round\n",
    "turn[;ops;tests]/[items;til count items]"
   ]
  },
  {
   "cell_type": "code",
   "execution_count": 160,
   "id": "9f32d31e",
   "metadata": {},
   "outputs": [
    {
     "data": {
      "text/plain": [
       "10 12 14 26 34\n",
       "245 93 53 199 115\n",
       "`long$()\n",
       "`long$()\n"
      ]
     },
     "execution_count": 160,
     "metadata": {},
     "output_type": "execute_result"
    }
   ],
   "source": [
    "/ 20 rounds\n",
    "turn[;ops;tests]/[items;(20*c)#til c:count items]"
   ]
  },
  {
   "cell_type": "code",
   "execution_count": 166,
   "id": "1125de1c",
   "metadata": {},
   "outputs": [
    {
     "name": "stdout",
     "output_type": "stream",
     "text": [
      "10 12 14 26 34 245 93 53 199 115 `long$() `long$()\n",
      "101            95                7        105     \n"
     ]
    },
    {
     "data": {
      "text/plain": [
       "10605\n"
      ]
     },
     "execution_count": 166,
     "metadata": {},
     "output_type": "execute_result"
    }
   ],
   "source": [
    "/ add counter\n",
    "turn:{[ic;o;t;n]\n",
    "    i:ic 0;c:ic 1;\n",
    "    moveTo:t[n] newItems:o[n] i n;\n",
    "    c[n]+:count moveTo;\n",
    "    i[n]:`long$(); / remove\n",
    "    (@[;;{x,y};]/[i;moveTo;newItems];c)\n",
    " };\n",
    "\n",
    "show r:turn[;ops;tests]/[(items;c#0);(20*c)#til c:count items]\n",
    "prd 2#desc r 1"
   ]
  },
  {
   "cell_type": "code",
   "execution_count": 167,
   "id": "43c249e8",
   "metadata": {},
   "outputs": [
    {
     "data": {
      "text/plain": [
       "182293\n"
      ]
     },
     "execution_count": 167,
     "metadata": {},
     "output_type": "execute_result"
    }
   ],
   "source": [
    "/ part 1\n",
    "input:fi each 7 cut read0`input.txt\n",
    "items:input[;0]\n",
    "ops:input[;1]\n",
    "tests:input[;2]\n",
    "r:turn[;ops;tests]/[(items;c#0);(20*c)#til c:count items]\n",
    "prd 2#desc r 1"
   ]
  },
  {
   "cell_type": "code",
   "execution_count": 213,
   "id": "d32664dd",
   "metadata": {},
   "outputs": [
    {
     "name": "stdout",
     "output_type": "stream",
     "text": [
      "52166 52013\n"
     ]
    },
    {
     "data": {
      "text/plain": [
       "2713310158\n"
      ]
     },
     "execution_count": 213,
     "metadata": {},
     "output_type": "execute_result"
    }
   ],
   "source": [
    "/ not dividing by 3, instead module LCD of all test divisor to avoid int overflow\n",
    "fi2:{\n",
    "    items:get 18_x 1;\n",
    "    op:get \"{[old;lcd] mod[;lcd]\",(18_x 2),\"}\";\n",
    "    tests:get \"{?[0=x mod \",(divisor:21_x 3),\";\",(29_x 4),\";\",(30_x 5),\"]}\";\n",
    "    (items;op;tests;\"J\"$divisor)\n",
    " };\n",
    "\n",
    "turn2:{[ic;o;t;lcd;n]\n",
    "    i:ic 0;c:ic 1;\n",
    "    moveTo:t[n] newItems:o[n][;lcd] i n;\n",
    "    c[n]+:count moveTo;\n",
    "    i[n]:`long$(); / remove\n",
    "    (@[;;{x,y};]/[i;moveTo;newItems];c)\n",
    " };\n",
    "\n",
    "input:fi2 each 7 cut raw\n",
    "items:input[;0]\n",
    "ops:input[;1]\n",
    "tests:input[;2]\n",
    "lcd:prd input[;3]\n",
    "\n",
    "r:turn2[;ops;tests;lcd]/[(items;c#0);(10000*c)#til c:count items]\n",
    "prd 0N!2#desc r 1"
   ]
  },
  {
   "cell_type": "code",
   "execution_count": 214,
   "id": "5029b7a8",
   "metadata": {},
   "outputs": [
    {
     "name": "stdout",
     "output_type": "stream",
     "text": [
      "234173 234155\n"
     ]
    },
    {
     "data": {
      "text/plain": [
       "54832778815\n"
      ]
     },
     "execution_count": 214,
     "metadata": {},
     "output_type": "execute_result"
    }
   ],
   "source": [
    "/ part 2\n",
    "input:fi2 each 7 cut read0`input.txt\n",
    "items:input[;0]\n",
    "ops:input[;1]\n",
    "tests:input[;2]\n",
    "lcd:prd input[;3]\n",
    "\n",
    "r:turn2[;ops;tests;lcd]/[(items;c#0);(10000*c)#til c:count items]\n",
    "prd 0N!2#desc r 1"
   ]
  }
 ],
 "metadata": {
  "kernelspec": {
   "display_name": "Q (kdb+)",
   "language": "q",
   "name": "qpk"
  },
  "language_info": {
   "file_extension": ".q",
   "mimetype": "text/x-q",
   "name": "q",
   "version": "4.0"
  }
 },
 "nbformat": 4,
 "nbformat_minor": 5
}
