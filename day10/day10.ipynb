{
 "cells": [
  {
   "cell_type": "code",
   "execution_count": 7,
   "id": "7025fa8f",
   "metadata": {},
   "outputs": [
    {
     "name": "stdout",
     "output_type": "stream",
     "text": [
      "\"noop\"\n",
      "\"addx 3\"\n",
      "\"addx -5\"\n"
     ]
    }
   ],
   "source": [
    "show i:read0`test.txt"
   ]
  },
  {
   "cell_type": "code",
   "execution_count": 81,
   "id": "3bd33643",
   "metadata": {},
   "outputs": [
    {
     "data": {
      "text/plain": [
       "1 1\n",
       "1 1 1 3\n",
       "1 1 1 3 3\n"
      ]
     },
     "execution_count": 81,
     "metadata": {},
     "output_type": "execute_result"
    }
   ],
   "source": [
    "/ grow list on each op\n",
    "/ for noop append last X\n",
    "/ for \"addx V\" append 2 items: 0 V+last X\n",
    "f:{x,$[y~\"noop\";0;(0;\"J\"$5_y)]+last x}\n",
    "\n",
    "/ use scan to show every step progress\n",
    "f\\[enlist 1;(\"noop\";\"addx 2\";\"noop\")]"
   ]
  },
  {
   "cell_type": "code",
   "execution_count": 90,
   "id": "2d2752a1",
   "metadata": {},
   "outputs": [
    {
     "data": {
      "text/plain": [
       "1b\n"
      ]
     },
     "execution_count": 90,
     "metadata": {},
     "output_type": "execute_result"
    }
   ],
   "source": [
    "/ test - drop initial value\n",
    "1 1 4 4 -1~1_f/[enlist 1;i]"
   ]
  },
  {
   "cell_type": "code",
   "execution_count": 104,
   "id": "6f05e210",
   "metadata": {},
   "outputs": [
    {
     "name": "stdout",
     "output_type": "stream",
     "text": [
      "21 19 18 21 16 18\n"
     ]
    },
    {
     "data": {
      "text/plain": [
       "1b\n"
      ]
     },
     "execution_count": 104,
     "metadata": {},
     "output_type": "execute_result"
    }
   ],
   "source": [
    "/ part 1\n",
    "o:f/[enlist 1;read0`test2.txt]\n",
    "/ shift indexes by 1 - as we need start of cycle and array is 0-based\n",
    "f1:{sum x*0N!y -1+x}\n",
    "13140~f1[20 60 100 140 180 220;o]"
   ]
  },
  {
   "cell_type": "code",
   "execution_count": 106,
   "id": "1079c87b",
   "metadata": {},
   "outputs": [
    {
     "data": {
      "text/plain": [
       "\"##..##..##..##..##..##..##..##..##..##..\"\n"
      ]
     },
     "execution_count": 106,
     "metadata": {},
     "output_type": "execute_result"
    }
   ],
   "source": [
    "/ test if current cycle's register if in -1 0 1 of ray position  \n",
    "/ 01b map to .#\n",
    "f2:{\".#\"x within -1 1+y}\n",
    "f2'[til 40;40#o]"
   ]
  },
  {
   "cell_type": "code",
   "execution_count": 107,
   "id": "f15af0f7",
   "metadata": {},
   "outputs": [
    {
     "data": {
      "text/plain": [
       "\"##..##..##..##..##..##..##..##..##..##..\"\n",
       "\"###...###...###...###...###...###...###.\"\n",
       "\"####....####....####....####....####....\"\n",
       "\"#####.....#####.....#####.....#####.....\"\n",
       "\"######......######......######......####\"\n",
       "\"#######.......#######.......#######.....\"\n"
      ]
     },
     "execution_count": 107,
     "metadata": {},
     "output_type": "execute_result"
    }
   ],
   "source": [
    "/ part 2\n",
    "/ each each over 6 lines\n",
    "f2''[6#enlist til 40;40 cut 240#o]"
   ]
  },
  {
   "cell_type": "code",
   "execution_count": 109,
   "id": "e84f6d55",
   "metadata": {},
   "outputs": [
    {
     "name": "stdout",
     "output_type": "stream",
     "text": [
      "21 21 21 16 6 21\n",
      "11720\n"
     ]
    },
    {
     "data": {
      "text/plain": [
       "\"####.###...##..###..####.###...##....##.\"\n",
       "\"#....#..#.#..#.#..#.#....#..#.#..#....#.\"\n",
       "\"###..#..#.#....#..#.###..#..#.#.......#.\"\n",
       "\"#....###..#....###..#....###..#.......#.\"\n",
       "\"#....#.#..#..#.#.#..#....#....#..#.#..#.\"\n",
       "\"####.#..#..##..#..#.####.#.....##...##..\"\n"
      ]
     },
     "execution_count": 109,
     "metadata": {},
     "output_type": "execute_result"
    }
   ],
   "source": [
    "/ my inputs\n",
    "o:f/[enlist 1;read0`input.txt]\n",
    "show f1[20 60 100 140 180 220;o]\n",
    "f2''[6#enlist til 40;40 cut 240#o]"
   ]
  },
  {
   "cell_type": "code",
   "execution_count": null,
   "id": "6dfc69ad",
   "metadata": {},
   "outputs": [],
   "source": []
  }
 ],
 "metadata": {
  "kernelspec": {
   "display_name": "Q (kdb+)",
   "language": "q",
   "name": "qpk"
  },
  "language_info": {
   "file_extension": ".q",
   "mimetype": "text/x-q",
   "name": "q",
   "version": "4.0"
  }
 },
 "nbformat": 4,
 "nbformat_minor": 5
}
