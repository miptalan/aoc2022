{
 "cells": [
  {
   "cell_type": "code",
   "execution_count": 133,
   "id": "69fd8960",
   "metadata": {},
   "outputs": [
    {
     "name": "stdout",
     "output_type": "stream",
     "text": [
      "\"$ cd /\"\n",
      "\"$ ls\"\n",
      "\"dir bfbjzfd\"\n",
      "\"dir mbc\"\n",
      "\"dir psqmv\"\n",
      "\"dir qqpgw\"\n",
      "\"59022 rrqzqwl.frp\"\n",
      "\"dir sscj\"\n",
      "\"dir vpfdwq\"\n",
      "\"dir zzp\"\n",
      "\"$ cd bfbjzfd\"\n",
      "\"$ ls\"\n",
      "\"125000 bmzjjgzc.dcr\"\n",
      "\"dir brmgzjp\"\n",
      "\"165351 hgm\"\n",
      "\"dir rhrqttg\"\n",
      "\"dir zfdc\"\n",
      "..\n"
     ]
    }
   ],
   "source": [
    "\\c 20 100\n",
    "show i:read0`input.txt"
   ]
  },
  {
   "cell_type": "code",
   "execution_count": 134,
   "id": "4769f923",
   "metadata": {},
   "outputs": [],
   "source": [
    "fi:{[r;l]\n",
    "    path:r 0;sz:r 1;\n",
    "    /show \"Path: \",string .Q.dd[`] path;\n",
    "    /show \"processing line: \",l;\n",
    "    / step up the tree - drop last dir from path\n",
    "    if[l~\"$ cd ..\";:(-1_path;sz)];\n",
    "\n",
    "    / step inside the tree - add dir to end of path\n",
    "    if[l like \"$ cd *\";:(path,:enlist`$last \" \" vs l;sz)];\n",
    "\n",
    "    / add size of file to all dirs up to root\n",
    "    if[l like \"[0-9]*\";\n",
    "        / generate all paths from current to root, amend in place with +size\n",
    "        :(path;@[sz;.Q.dd[`] each -1_{-1_x}\\[path];+;\"J\"$first \" \" vs l])];\n",
    "    /show \"noop\";\n",
    "    :(path;sz)\n",
    " }"
   ]
  },
  {
   "cell_type": "code",
   "execution_count": 135,
   "id": "1bfe5b02",
   "metadata": {},
   "outputs": [
    {
     "data": {
      "text/plain": [
       "./                                               | 47052440\n",
       "./.bfbjzfd                                       | 2085993\n",
       "./.bfbjzfd.brmgzjp                               | 298676\n",
       "./.bfbjzfd.rhrqttg                               | 1089907\n",
       "./.bfbjzfd.rhrqttg.hmz                           | 297949\n",
       "./.bfbjzfd.rhrqttg.hpcrbfq                       | 791958\n",
       "./.bfbjzfd.rhrqttg.hpcrbfq.ghmfgn                | 508940\n",
       "./.bfbjzfd.rhrqttg.hpcrbfq.ghmfgn.rrfg           | 240584\n",
       "./.bfbjzfd.rhrqttg.hpcrbfq.ghmfgn.tggwct         | 268356\n",
       "./.bfbjzfd.rhrqttg.hpcrbfq.ghmfgn.tggwct.lqmrbncv| 268356\n",
       "./.bfbjzfd.rhrqttg.hpcrbfq.pnhcpprn              | 138460\n",
       "./.bfbjzfd.rhrqttg.hpcrbfq.wgvqhw                | 144558\n",
       "./.bfbjzfd.zfdc                                  | 407059\n",
       "./.mbc                                           | 462645\n",
       "./.psqmv                                         | 23595140\n",
       "./.psqmv.cjzpb                                   | 156179\n",
       "./.psqmv.jdvsccc                                 | 1593359\n",
       "..\n"
      ]
     },
     "execution_count": 135,
     "metadata": {},
     "output_type": "execute_result"
    }
   ],
   "source": [
    "r:last fi/[(();()!());i]\n",
    "(asc key r)#r"
   ]
  },
  {
   "cell_type": "code",
   "execution_count": 137,
   "id": "002f430c",
   "metadata": {},
   "outputs": [
    {
     "data": {
      "text/plain": [
       "1232307\n"
      ]
     },
     "execution_count": 137,
     "metadata": {},
     "output_type": "execute_result"
    }
   ],
   "source": [
    "/part 1 - just sum all less than threshold\n",
    "sum r where r<=100000"
   ]
  },
  {
   "cell_type": "code",
   "execution_count": 144,
   "id": "c5a07c61",
   "metadata": {},
   "outputs": [
    {
     "data": {
      "text/plain": [
       "7268994\n"
      ]
     },
     "execution_count": 144,
     "metadata": {},
     "output_type": "execute_result"
    }
   ],
   "source": [
    "/ part 2 - min of all dirs bigger than required\n",
    "required:30000000-(70000000 - r`$\"./\")\n",
    "min r where r>=required"
   ]
  },
  {
   "cell_type": "code",
   "execution_count": null,
   "id": "84ded44a",
   "metadata": {},
   "outputs": [],
   "source": []
  }
 ],
 "metadata": {
  "kernelspec": {
   "display_name": "Q (kdb+)",
   "language": "q",
   "name": "qpk"
  },
  "language_info": {
   "file_extension": ".q",
   "mimetype": "text/x-q",
   "name": "q",
   "version": "4.0"
  }
 },
 "nbformat": 4,
 "nbformat_minor": 5
}
