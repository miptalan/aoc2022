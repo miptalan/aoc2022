{
 "cells": [
  {
   "cell_type": "code",
   "execution_count": 113,
   "id": "b3924966",
   "metadata": {},
   "outputs": [
    {
     "data": {
      "text/plain": [
       "\"2-4,6-8\"\n",
       "\"2-3,4-5\"\n",
       "\"5-7,7-9\"\n",
       "\"2-8,3-7\"\n",
       "\"6-6,4-6\"\n",
       "\"2-6,4-8\"\n"
      ]
     },
     "execution_count": 113,
     "metadata": {},
     "output_type": "execute_result"
    }
   ],
   "source": [
    "raw:read0`:test.txt\n",
    "raw"
   ]
  },
  {
   "cell_type": "code",
   "execution_count": 120,
   "id": "2881224e",
   "metadata": {},
   "outputs": [
    {
     "data": {
      "text/plain": [
       "\"2-4\" \"6-8\"\n",
       "\"2-3\" \"4-5\"\n",
       "\"5-7\" \"7-9\"\n",
       "\"2-8\" \"3-7\"\n",
       "\"6-6\" \"4-6\"\n",
       "\"2-6\" \"4-8\"\n"
      ]
     },
     "execution_count": 120,
     "metadata": {},
     "output_type": "execute_result"
    }
   ],
   "source": [
    "/ split each row by comma\n",
    "\",\"vs'raw"
   ]
  },
  {
   "cell_type": "code",
   "execution_count": 121,
   "id": "7949ee95",
   "metadata": {},
   "outputs": [
    {
     "data": {
      "text/plain": [
       ",\"2\" ,\"4\" ,\"6\" ,\"8\"\n",
       ",\"2\" ,\"3\" ,\"4\" ,\"5\"\n",
       ",\"5\" ,\"7\" ,\"7\" ,\"9\"\n",
       ",\"2\" ,\"8\" ,\"3\" ,\"7\"\n",
       ",\"6\" ,\"6\" ,\"4\" ,\"6\"\n",
       ",\"2\" ,\"6\" ,\"4\" ,\"8\"\n"
      ]
     },
     "execution_count": 121,
     "metadata": {},
     "output_type": "execute_result"
    }
   ],
   "source": [
    "/ split each token in each result by dash\n",
    "\"-\"vs''\",\"vs'raw"
   ]
  },
  {
   "cell_type": "code",
   "execution_count": 155,
   "id": "68e6ad38",
   "metadata": {},
   "outputs": [
    {
     "name": "stdout",
     "output_type": "stream",
     "text": [
      "2 4 6 8\n",
      "2 3 4 5\n",
      "5 7 7 9\n",
      "2 8 3 7\n",
      "4 6 6 6\n",
      "2 6 4 8\n"
     ]
    }
   ],
   "source": [
    "/ convert to ints and sort pairs, so first pair always starts first\n",
    "fi:{(asc')\"I\"$\"-\"vs''\",\"vs'x}\n",
    "show input:fi raw"
   ]
  },
  {
   "cell_type": "code",
   "execution_count": 196,
   "id": "837c60a4",
   "metadata": {},
   "outputs": [
    {
     "data": {
      "text/plain": [
       "2i\n"
      ]
     },
     "execution_count": 196,
     "metadata": {},
     "output_type": "execute_result"
    }
   ],
   "source": [
    "/ part 1 - note indexing at depth: x[;0;1] - all rows, first column (of pairs), second numbers in pair\n",
    "f1:{sum ((x[;0;1]<=x[;1;1])&x[;0;0]=x[;1;0])|x[;0;1]>=x[;1;1]}\n",
    "f1 input"
   ]
  },
  {
   "cell_type": "code",
   "execution_count": 197,
   "id": "888a4c18",
   "metadata": {},
   "outputs": [
    {
     "data": {
      "text/plain": [
       "485i\n"
      ]
     },
     "execution_count": 197,
     "metadata": {},
     "output_type": "execute_result"
    }
   ],
   "source": [
    "f1 fi read0`:input.txt"
   ]
  },
  {
   "cell_type": "code",
   "execution_count": 203,
   "id": "0f0b74ad",
   "metadata": {},
   "outputs": [
    {
     "data": {
      "text/plain": [
       "4i\n"
      ]
     },
     "execution_count": 203,
     "metadata": {},
     "output_type": "execute_result"
    }
   ],
   "source": [
    "/ part 2\n",
    "f2:{sum x[;0;1]>=x[;1;0]}\n",
    "f2 input"
   ]
  },
  {
   "cell_type": "code",
   "execution_count": 204,
   "id": "c31ba0d7",
   "metadata": {},
   "outputs": [
    {
     "data": {
      "text/plain": [
       "857i\n"
      ]
     },
     "execution_count": 204,
     "metadata": {},
     "output_type": "execute_result"
    }
   ],
   "source": [
    "f2 fi read0`:input.txt"
   ]
  },
  {
   "cell_type": "code",
   "execution_count": null,
   "id": "10327547",
   "metadata": {},
   "outputs": [],
   "source": []
  }
 ],
 "metadata": {
  "kernelspec": {
   "display_name": "Q (kdb+)",
   "language": "q",
   "name": "qpk"
  },
  "language_info": {
   "file_extension": ".q",
   "mimetype": "text/x-q",
   "name": "q",
   "version": "4.0"
  }
 },
 "nbformat": 4,
 "nbformat_minor": 5
}
